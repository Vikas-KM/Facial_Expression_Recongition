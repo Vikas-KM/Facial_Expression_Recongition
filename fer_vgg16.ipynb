{
  "nbformat": 4,
  "nbformat_minor": 0,
  "metadata": {
    "colab": {
      "name": "fer-vgg16.ipynb",
      "provenance": [],
      "collapsed_sections": [],
      "mount_file_id": "1tNxcYcyRlAjS4OcOVRI5MbDrLEeHO8EM",
      "authorship_tag": "ABX9TyPR5YFLTN/b9iJfbC0supSd",
      "include_colab_link": true
    },
    "kernelspec": {
      "name": "python3",
      "display_name": "Python 3"
    },
    "accelerator": "GPU"
  },
  "cells": [
    {
      "cell_type": "markdown",
      "metadata": {
        "id": "view-in-github",
        "colab_type": "text"
      },
      "source": [
        "<a href=\"https://colab.research.google.com/github/Vikas-KM/Facial_Expression_Recongition/blob/main/fer_vgg16.ipynb\" target=\"_parent\"><img src=\"https://colab.research.google.com/assets/colab-badge.svg\" alt=\"Open In Colab\"/></a>"
      ]
    },
    {
      "cell_type": "code",
      "metadata": {
        "id": "ohOZun2vv1M8"
      },
      "source": [
        "import tensorflow as tf\r\n",
        "from tensorflow.keras.preprocessing.image import ImageDataGenerator"
      ],
      "execution_count": null,
      "outputs": []
    },
    {
      "cell_type": "code",
      "metadata": {
        "id": "g261y30VE_nu"
      },
      "source": [
        "!unzip \"/content/drive/My Drive/fer.zip\" -d \"/content/drive/My Drive/fer\""
      ],
      "execution_count": null,
      "outputs": []
    },
    {
      "cell_type": "code",
      "metadata": {
        "id": "t8Z3mPzduoEA"
      },
      "source": [
        "train_dir = '/content/drive/MyDrive/fer/images/images/train/'\r\n",
        "validation_dir = '/content/drive/MyDrive/fer/images/images/validation/'"
      ],
      "execution_count": null,
      "outputs": []
    },
    {
      "cell_type": "code",
      "metadata": {
        "id": "WARCco-hvzOQ"
      },
      "source": [
        "batch_size = 32\r\n",
        "img_height = 48\r\n",
        "img_width = 48"
      ],
      "execution_count": null,
      "outputs": []
    },
    {
      "cell_type": "code",
      "metadata": {
        "id": "Vs1lg4qFwAZi"
      },
      "source": [
        "train_datagen = ImageDataGenerator(\r\n",
        "                                    rescale=1/255, \r\n",
        "                                    rotation_range=40,\r\n",
        "                                    width_shift_range=0.2,\r\n",
        "                                    height_shift_range=0.2,\r\n",
        "                                    shear_range=0.2,\r\n",
        "                                    zoom_range=0.2,\r\n",
        "                                    horizontal_flip=True,\r\n",
        "                                    fill_mode='nearest',) "
      ],
      "execution_count": null,
      "outputs": []
    },
    {
      "cell_type": "code",
      "metadata": {
        "id": "X8NfZgGcCPpj"
      },
      "source": [
        "validation_datagen = ImageDataGenerator(rescale=1/255)"
      ],
      "execution_count": null,
      "outputs": []
    },
    {
      "cell_type": "code",
      "metadata": {
        "colab": {
          "base_uri": "https://localhost:8080/"
        },
        "id": "PolDVViLwEB3",
        "outputId": "f25f9e99-ba63-46e8-8edb-3618af56a742"
      },
      "source": [
        "train_generator = train_datagen.flow_from_directory(\r\n",
        "                                    directory=train_dir,\r\n",
        "                                    shuffle=True,\r\n",
        "                                    target_size=(img_height, img_width), \r\n",
        "                                    class_mode='categorical',\r\n",
        "                                    color_mode='grayscale',\r\n",
        "                                    batch_size=batch_size,)"
      ],
      "execution_count": null,
      "outputs": [
        {
          "output_type": "stream",
          "text": [
            "Found 28821 images belonging to 7 classes.\n"
          ],
          "name": "stdout"
        }
      ]
    },
    {
      "cell_type": "code",
      "metadata": {
        "colab": {
          "base_uri": "https://localhost:8080/"
        },
        "id": "oo8DK48pwGaV",
        "outputId": "4b9e8df5-99d9-4982-e01e-3d0279dc4611"
      },
      "source": [
        "validation_generator = validation_datagen.flow_from_directory(\r\n",
        "                                    directory=validation_dir,\r\n",
        "                                    shuffle=True,\r\n",
        "                                    target_size=(img_height, img_width), \r\n",
        "                                    class_mode='categorical',\r\n",
        "                                    color_mode='grayscale',\r\n",
        "                                    batch_size=batch_size,)"
      ],
      "execution_count": null,
      "outputs": [
        {
          "output_type": "stream",
          "text": [
            "Found 7066 images belonging to 7 classes.\n"
          ],
          "name": "stdout"
        }
      ]
    },
    {
      "cell_type": "code",
      "metadata": {
        "id": "AZkjvk43wJnc"
      },
      "source": [
        "model = tf.keras.Sequential([\r\n",
        "    tf.keras.layers.Conv2D(64, (3, 3), padding='same', activation='relu', input_shape=(img_height, img_width, 1)),\r\n",
        "    tf.keras.layers.BatchNormalization(),\r\n",
        "    tf.keras.layers.Conv2D(64, (3, 3), padding='same', activation='relu', input_shape=(img_height, img_width, 1)),\r\n",
        "    tf.keras.layers.BatchNormalization(),\r\n",
        "    tf.keras.layers.MaxPooling2D(pool_size=(2, 2), strides=2),\r\n",
        "    tf.keras.layers.Dropout(0.2),\r\n",
        "\r\n",
        "\r\n",
        "    tf.keras.layers.Conv2D(128, (3, 3), padding='same',activation='relu'),\r\n",
        "    tf.keras.layers.BatchNormalization(),\r\n",
        "    tf.keras.layers.Conv2D(128, (3, 3), padding='same',activation='relu'),\r\n",
        "    tf.keras.layers.BatchNormalization(),\r\n",
        "    tf.keras.layers.MaxPooling2D(2, 2),\r\n",
        "    tf.keras.layers.Dropout(0.2),\r\n",
        "\r\n",
        "    tf.keras.layers.Conv2D(256, (3, 3), padding='same',activation='relu'),\r\n",
        "    tf.keras.layers.BatchNormalization(),\r\n",
        "    tf.keras.layers.Conv2D(256, (3, 3), padding='same',activation='relu'),\r\n",
        "    tf.keras.layers.BatchNormalization(),\r\n",
        "    tf.keras.layers.Conv2D(256, (3, 3), padding='same',activation='relu'),\r\n",
        "    tf.keras.layers.MaxPooling2D(pool_size=(2, 2), strides=2),\r\n",
        "    tf.keras.layers.Dropout(0.2),\r\n",
        "\r\n",
        "    tf.keras.layers.Conv2D(512, (3, 3), padding='same',activation='relu'),\r\n",
        "    tf.keras.layers.BatchNormalization(),\r\n",
        "    tf.keras.layers.Conv2D(512, (3, 3), padding='same',activation='relu'),\r\n",
        "    tf.keras.layers.BatchNormalization(),\r\n",
        "    tf.keras.layers.Conv2D(512, (3, 3), padding='same',activation='relu'),\r\n",
        "    tf.keras.layers.MaxPooling2D(pool_size=(2, 2), strides=2),\r\n",
        "    tf.keras.layers.Dropout(0.2),\r\n",
        "\r\n",
        "    tf.keras.layers.Conv2D(512, (3, 3), padding='same',activation='relu'),\r\n",
        "    tf.keras.layers.BatchNormalization(),\r\n",
        "    tf.keras.layers.Conv2D(512, (3, 3), padding='same',activation='relu'),\r\n",
        "    tf.keras.layers.BatchNormalization(),\r\n",
        "    tf.keras.layers.Conv2D(512, (3, 3), padding='same',activation='relu'),\r\n",
        "    tf.keras.layers.MaxPooling2D(pool_size=(2, 2), strides=2),\r\n",
        "    tf.keras.layers.Dropout(0.2),\r\n",
        "\r\n",
        "    tf.keras.layers.Flatten(),\r\n",
        "\r\n",
        "    tf.keras.layers.Dense(4096, activation='relu'),\r\n",
        "    tf.keras.layers.BatchNormalization(),\r\n",
        "    tf.keras.layers.Dropout(0.5),\r\n",
        "\r\n",
        "    tf.keras.layers.Dense(4096, activation='relu'),\r\n",
        "    tf.keras.layers.BatchNormalization(),\r\n",
        "    tf.keras.layers.Dropout(0.5),\r\n",
        "\r\n",
        "\r\n",
        "    # tf.keras.layers.Dense(32, activation='relu'),\r\n",
        "    # tf.keras.layers.BatchNormalization(),\r\n",
        "    # tf.keras.layers.Dropout(0.5),\r\n",
        "\r\n",
        "    tf.keras.layers.Dense(7, activation='softmax')\r\n",
        "])"
      ],
      "execution_count": null,
      "outputs": []
    },
    {
      "cell_type": "code",
      "metadata": {
        "id": "ez294TjJziFA"
      },
      "source": [
        "# model = tf.keras.Sequential([\r\n",
        "#     tf.keras.layers.Conv2D(32, (3, 3), padding='same', activation='relu', input_shape=(img_height, img_width, 3)),\r\n",
        "#     tf.keras.layers.BatchNormalization(),\r\n",
        "#     # tf.keras.layers.Conv2D(64, (3, 3), padding='same', activation='relu', input_shape=(img_height, img_width, 3)),\r\n",
        "#     # tf.keras.layers.BatchNormalization(),\r\n",
        "#     tf.keras.layers.MaxPooling2D(pool_size=(2, 2)),\r\n",
        "#     tf.keras.layers.Dropout(0.2),\r\n",
        "\r\n",
        "\r\n",
        "#     tf.keras.layers.Conv2D(64, (3, 3), padding='same',activation='relu'),\r\n",
        "#     tf.keras.layers.BatchNormalization(),\r\n",
        "#     # tf.keras.layers.Conv2D(128, (3, 3), padding='same',activation='relu'),\r\n",
        "#     # tf.keras.layers.BatchNormalization(),\r\n",
        "#     tf.keras.layers.MaxPooling2D(2, 2),\r\n",
        "#     tf.keras.layers.Dropout(0.2),\r\n",
        "\r\n",
        "#     tf.keras.layers.Conv2D(64, (3, 3), padding='same',activation='relu'),\r\n",
        "#     tf.keras.layers.BatchNormalization(),\r\n",
        "#     # tf.keras.layers.Conv2D(256, (3, 3), padding='same',activation='relu'),\r\n",
        "#     # tf.keras.layers.BatchNormalization(),\r\n",
        "#     # tf.keras.layers.Conv2D(256, (3, 3), padding='same',activation='relu'),\r\n",
        "#     tf.keras.layers.MaxPooling2D(pool_size=(2, 2)),\r\n",
        "#     tf.keras.layers.Dropout(0.2),\r\n",
        "\r\n",
        "#     tf.keras.layers.Conv2D(128, (3, 3), padding='same',activation='relu'),\r\n",
        "#     tf.keras.layers.BatchNormalization(),\r\n",
        "#     # tf.keras.layers.Conv2D(512, (3, 3), padding='same',activation='relu'),\r\n",
        "#     # tf.keras.layers.BatchNormalization(),\r\n",
        "#     # tf.keras.layers.Conv2D(512, (3, 3), padding='same',activation='relu'),\r\n",
        "#     tf.keras.layers.MaxPooling2D(pool_size=(2, 2)),\r\n",
        "#     tf.keras.layers.Dropout(0.2),\r\n",
        "\r\n",
        "#     # tf.keras.layers.Conv2D(512, (3, 3), padding='same',activation='relu'),\r\n",
        "#     # # tf.keras.layers.BatchNormalization(),\r\n",
        "#     # tf.keras.layers.Conv2D(512, (3, 3), padding='same',activation='relu'),\r\n",
        "#     # # tf.keras.layers.BatchNormalization(),\r\n",
        "#     # tf.keras.layers.Conv2D(512, (3, 3), padding='same',activation='relu'),\r\n",
        "#     # tf.keras.layers.MaxPooling2D(pool_size=(2, 2), strides=2),\r\n",
        "#     # tf.keras.layers.Dropout(0.2),\r\n",
        "\r\n",
        "#     tf.keras.layers.Flatten(),\r\n",
        "\r\n",
        "#     tf.keras.layers.Dense(64, activation='relu'),\r\n",
        "#     # tf.keras.layers.Dense(4096, activation='relu'),\r\n",
        "#     # tf.keras.layers.Dense(1024, activation='relu'),\r\n",
        "\r\n",
        "#     tf.keras.layers.BatchNormalization(),\r\n",
        "#     tf.keras.layers.Dropout(0.5),\r\n",
        "\r\n",
        "#     tf.keras.layers.Dense(64, activation='relu'),\r\n",
        "#     tf.keras.layers.BatchNormalization(),\r\n",
        "#     tf.keras.layers.Dropout(0.5),\r\n",
        "\r\n",
        "#     tf.keras.layers.Dense(1, activation='sigmoid')\r\n",
        "# ])"
      ],
      "execution_count": null,
      "outputs": []
    },
    {
      "cell_type": "code",
      "metadata": {
        "colab": {
          "base_uri": "https://localhost:8080/"
        },
        "id": "wZBY66DDwRMn",
        "outputId": "7a02092f-77bf-4bdd-ff9b-f67b05117662"
      },
      "source": [
        "print(model.summary())"
      ],
      "execution_count": null,
      "outputs": [
        {
          "output_type": "stream",
          "text": [
            "Model: \"sequential\"\n",
            "_________________________________________________________________\n",
            "Layer (type)                 Output Shape              Param #   \n",
            "=================================================================\n",
            "conv2d (Conv2D)              (None, 48, 48, 64)        640       \n",
            "_________________________________________________________________\n",
            "batch_normalization (BatchNo (None, 48, 48, 64)        256       \n",
            "_________________________________________________________________\n",
            "conv2d_1 (Conv2D)            (None, 48, 48, 64)        36928     \n",
            "_________________________________________________________________\n",
            "batch_normalization_1 (Batch (None, 48, 48, 64)        256       \n",
            "_________________________________________________________________\n",
            "max_pooling2d (MaxPooling2D) (None, 24, 24, 64)        0         \n",
            "_________________________________________________________________\n",
            "dropout (Dropout)            (None, 24, 24, 64)        0         \n",
            "_________________________________________________________________\n",
            "conv2d_2 (Conv2D)            (None, 24, 24, 128)       73856     \n",
            "_________________________________________________________________\n",
            "batch_normalization_2 (Batch (None, 24, 24, 128)       512       \n",
            "_________________________________________________________________\n",
            "conv2d_3 (Conv2D)            (None, 24, 24, 128)       147584    \n",
            "_________________________________________________________________\n",
            "batch_normalization_3 (Batch (None, 24, 24, 128)       512       \n",
            "_________________________________________________________________\n",
            "max_pooling2d_1 (MaxPooling2 (None, 12, 12, 128)       0         \n",
            "_________________________________________________________________\n",
            "dropout_1 (Dropout)          (None, 12, 12, 128)       0         \n",
            "_________________________________________________________________\n",
            "conv2d_4 (Conv2D)            (None, 12, 12, 256)       295168    \n",
            "_________________________________________________________________\n",
            "batch_normalization_4 (Batch (None, 12, 12, 256)       1024      \n",
            "_________________________________________________________________\n",
            "conv2d_5 (Conv2D)            (None, 12, 12, 256)       590080    \n",
            "_________________________________________________________________\n",
            "batch_normalization_5 (Batch (None, 12, 12, 256)       1024      \n",
            "_________________________________________________________________\n",
            "conv2d_6 (Conv2D)            (None, 12, 12, 256)       590080    \n",
            "_________________________________________________________________\n",
            "max_pooling2d_2 (MaxPooling2 (None, 6, 6, 256)         0         \n",
            "_________________________________________________________________\n",
            "dropout_2 (Dropout)          (None, 6, 6, 256)         0         \n",
            "_________________________________________________________________\n",
            "conv2d_7 (Conv2D)            (None, 6, 6, 512)         1180160   \n",
            "_________________________________________________________________\n",
            "batch_normalization_6 (Batch (None, 6, 6, 512)         2048      \n",
            "_________________________________________________________________\n",
            "conv2d_8 (Conv2D)            (None, 6, 6, 512)         2359808   \n",
            "_________________________________________________________________\n",
            "batch_normalization_7 (Batch (None, 6, 6, 512)         2048      \n",
            "_________________________________________________________________\n",
            "conv2d_9 (Conv2D)            (None, 6, 6, 512)         2359808   \n",
            "_________________________________________________________________\n",
            "max_pooling2d_3 (MaxPooling2 (None, 3, 3, 512)         0         \n",
            "_________________________________________________________________\n",
            "dropout_3 (Dropout)          (None, 3, 3, 512)         0         \n",
            "_________________________________________________________________\n",
            "conv2d_10 (Conv2D)           (None, 3, 3, 512)         2359808   \n",
            "_________________________________________________________________\n",
            "batch_normalization_8 (Batch (None, 3, 3, 512)         2048      \n",
            "_________________________________________________________________\n",
            "conv2d_11 (Conv2D)           (None, 3, 3, 512)         2359808   \n",
            "_________________________________________________________________\n",
            "batch_normalization_9 (Batch (None, 3, 3, 512)         2048      \n",
            "_________________________________________________________________\n",
            "conv2d_12 (Conv2D)           (None, 3, 3, 512)         2359808   \n",
            "_________________________________________________________________\n",
            "max_pooling2d_4 (MaxPooling2 (None, 1, 1, 512)         0         \n",
            "_________________________________________________________________\n",
            "dropout_4 (Dropout)          (None, 1, 1, 512)         0         \n",
            "_________________________________________________________________\n",
            "flatten (Flatten)            (None, 512)               0         \n",
            "_________________________________________________________________\n",
            "dense (Dense)                (None, 4096)              2101248   \n",
            "_________________________________________________________________\n",
            "batch_normalization_10 (Batc (None, 4096)              16384     \n",
            "_________________________________________________________________\n",
            "dropout_5 (Dropout)          (None, 4096)              0         \n",
            "_________________________________________________________________\n",
            "dense_1 (Dense)              (None, 4096)              16781312  \n",
            "_________________________________________________________________\n",
            "batch_normalization_11 (Batc (None, 4096)              16384     \n",
            "_________________________________________________________________\n",
            "dropout_6 (Dropout)          (None, 4096)              0         \n",
            "_________________________________________________________________\n",
            "dense_2 (Dense)              (None, 7)                 28679     \n",
            "=================================================================\n",
            "Total params: 33,669,319\n",
            "Trainable params: 33,647,047\n",
            "Non-trainable params: 22,272\n",
            "_________________________________________________________________\n",
            "None\n"
          ],
          "name": "stdout"
        }
      ]
    },
    {
      "cell_type": "code",
      "metadata": {
        "id": "uJ2E6OgpwUZm"
      },
      "source": [
        "model.compile(\r\n",
        "    loss=tf.keras.losses.categorical_crossentropy,\r\n",
        "    optimizer=tf.keras.optimizers.Adam(learning_rate=0.0001),\r\n",
        "    metrics=['accuracy'],\r\n",
        ")"
      ],
      "execution_count": null,
      "outputs": []
    },
    {
      "cell_type": "code",
      "metadata": {
        "colab": {
          "base_uri": "https://localhost:8080/"
        },
        "id": "F89cbku5wXuF",
        "outputId": "acf45fae-7f98-45ed-cc9b-de5a01c49bf5"
      },
      "source": [
        "history = model.fit(\r\n",
        "  train_generator,\r\n",
        "  validation_data=validation_generator,\r\n",
        "  batch_size=batch_size,\r\n",
        "  epochs=100,\r\n",
        "  verbose=1,\r\n",
        "  steps_per_epoch = 900,\r\n",
        "  validation_steps = 220,\r\n",
        ")"
      ],
      "execution_count": null,
      "outputs": [
        {
          "output_type": "stream",
          "text": [
            "Epoch 1/100\n",
            "900/900 [==============================] - 72s 71ms/step - loss: 3.1564 - accuracy: 0.1612 - val_loss: 1.8842 - val_accuracy: 0.2347\n",
            "Epoch 2/100\n",
            "900/900 [==============================] - 64s 71ms/step - loss: 2.4570 - accuracy: 0.1931 - val_loss: 1.8445 - val_accuracy: 0.2670\n",
            "Epoch 3/100\n",
            "900/900 [==============================] - 64s 71ms/step - loss: 2.2052 - accuracy: 0.2073 - val_loss: 1.8178 - val_accuracy: 0.2638\n",
            "Epoch 4/100\n",
            "900/900 [==============================] - 64s 71ms/step - loss: 2.1059 - accuracy: 0.2206 - val_loss: 1.8972 - val_accuracy: 0.2885\n",
            "Epoch 5/100\n",
            "900/900 [==============================] - 64s 71ms/step - loss: 2.0580 - accuracy: 0.2353 - val_loss: 2.3040 - val_accuracy: 0.3037\n",
            "Epoch 6/100\n",
            "900/900 [==============================] - 64s 71ms/step - loss: 2.0222 - accuracy: 0.2429 - val_loss: 2.0037 - val_accuracy: 0.2634\n",
            "Epoch 7/100\n",
            "900/900 [==============================] - 63s 70ms/step - loss: 2.0051 - accuracy: 0.2336 - val_loss: 1.9758 - val_accuracy: 0.2705\n",
            "Epoch 8/100\n",
            "900/900 [==============================] - 63s 70ms/step - loss: 2.0053 - accuracy: 0.2330 - val_loss: 2.3044 - val_accuracy: 0.2442\n",
            "Epoch 9/100\n",
            "900/900 [==============================] - 63s 70ms/step - loss: 1.9812 - accuracy: 0.2361 - val_loss: 1.7528 - val_accuracy: 0.2656\n",
            "Epoch 10/100\n",
            "900/900 [==============================] - 63s 70ms/step - loss: 1.9800 - accuracy: 0.2315 - val_loss: 1.8546 - val_accuracy: 0.2741\n",
            "Epoch 11/100\n",
            "900/900 [==============================] - 63s 70ms/step - loss: 1.9570 - accuracy: 0.2313 - val_loss: 1.9027 - val_accuracy: 0.2842\n",
            "Epoch 12/100\n",
            "900/900 [==============================] - 64s 71ms/step - loss: 1.9209 - accuracy: 0.2451 - val_loss: 1.7543 - val_accuracy: 0.2825\n",
            "Epoch 13/100\n",
            "900/900 [==============================] - 63s 70ms/step - loss: 1.9278 - accuracy: 0.2460 - val_loss: 1.7966 - val_accuracy: 0.2976\n",
            "Epoch 14/100\n",
            "900/900 [==============================] - 64s 71ms/step - loss: 1.8978 - accuracy: 0.2604 - val_loss: 1.9510 - val_accuracy: 0.2652\n",
            "Epoch 15/100\n",
            "900/900 [==============================] - 63s 70ms/step - loss: 1.8908 - accuracy: 0.2572 - val_loss: 1.7653 - val_accuracy: 0.2982\n",
            "Epoch 16/100\n",
            "900/900 [==============================] - 63s 70ms/step - loss: 1.8560 - accuracy: 0.2618 - val_loss: 1.8781 - val_accuracy: 0.2739\n",
            "Epoch 17/100\n",
            "900/900 [==============================] - 63s 70ms/step - loss: 1.8704 - accuracy: 0.2617 - val_loss: 2.4230 - val_accuracy: 0.2550\n",
            "Epoch 18/100\n",
            "900/900 [==============================] - 63s 70ms/step - loss: 1.8662 - accuracy: 0.2630 - val_loss: 1.7388 - val_accuracy: 0.2973\n",
            "Epoch 19/100\n",
            "900/900 [==============================] - 63s 70ms/step - loss: 1.8696 - accuracy: 0.2597 - val_loss: 1.8289 - val_accuracy: 0.3121\n",
            "Epoch 20/100\n",
            "900/900 [==============================] - 64s 71ms/step - loss: 1.8504 - accuracy: 0.2681 - val_loss: 1.7845 - val_accuracy: 0.2939\n",
            "Epoch 21/100\n",
            "900/900 [==============================] - 63s 70ms/step - loss: 1.8425 - accuracy: 0.2688 - val_loss: 1.8849 - val_accuracy: 0.3330\n",
            "Epoch 22/100\n",
            "900/900 [==============================] - 65s 72ms/step - loss: 1.7889 - accuracy: 0.2833 - val_loss: 1.9532 - val_accuracy: 0.2726\n",
            "Epoch 23/100\n",
            "900/900 [==============================] - 65s 72ms/step - loss: 1.7654 - accuracy: 0.2905 - val_loss: 1.7180 - val_accuracy: 0.3384\n",
            "Epoch 24/100\n",
            "900/900 [==============================] - 64s 71ms/step - loss: 1.7381 - accuracy: 0.3026 - val_loss: 1.8657 - val_accuracy: 0.3386\n",
            "Epoch 25/100\n",
            "900/900 [==============================] - 63s 70ms/step - loss: 1.7235 - accuracy: 0.3148 - val_loss: 1.6126 - val_accuracy: 0.3957\n",
            "Epoch 26/100\n",
            "900/900 [==============================] - 64s 71ms/step - loss: 1.6731 - accuracy: 0.3433 - val_loss: 1.8643 - val_accuracy: 0.4141\n",
            "Epoch 27/100\n",
            "900/900 [==============================] - 63s 70ms/step - loss: 1.6495 - accuracy: 0.3645 - val_loss: 1.4331 - val_accuracy: 0.4382\n",
            "Epoch 28/100\n",
            "900/900 [==============================] - 62s 69ms/step - loss: 1.5608 - accuracy: 0.3989 - val_loss: 1.6996 - val_accuracy: 0.4332\n",
            "Epoch 29/100\n",
            "900/900 [==============================] - 63s 70ms/step - loss: 1.5504 - accuracy: 0.4077 - val_loss: 1.4313 - val_accuracy: 0.4858\n",
            "Epoch 30/100\n",
            "900/900 [==============================] - 62s 69ms/step - loss: 1.4644 - accuracy: 0.4438 - val_loss: 1.3573 - val_accuracy: 0.4999\n",
            "Epoch 31/100\n",
            "900/900 [==============================] - 63s 70ms/step - loss: 1.4448 - accuracy: 0.4543 - val_loss: 1.2703 - val_accuracy: 0.5281\n",
            "Epoch 32/100\n",
            "900/900 [==============================] - 63s 70ms/step - loss: 1.4043 - accuracy: 0.4697 - val_loss: 1.3553 - val_accuracy: 0.4773\n",
            "Epoch 33/100\n",
            "900/900 [==============================] - 62s 69ms/step - loss: 1.3700 - accuracy: 0.4844 - val_loss: 1.2785 - val_accuracy: 0.5278\n",
            "Epoch 34/100\n",
            "900/900 [==============================] - 62s 69ms/step - loss: 1.3480 - accuracy: 0.4895 - val_loss: 1.2579 - val_accuracy: 0.5372\n",
            "Epoch 35/100\n",
            "900/900 [==============================] - 62s 69ms/step - loss: 1.3168 - accuracy: 0.5018 - val_loss: 1.2151 - val_accuracy: 0.5287\n",
            "Epoch 36/100\n",
            "900/900 [==============================] - 63s 70ms/step - loss: 1.3181 - accuracy: 0.5074 - val_loss: 1.2255 - val_accuracy: 0.5321\n",
            "Epoch 37/100\n",
            "900/900 [==============================] - 63s 70ms/step - loss: 1.3069 - accuracy: 0.5100 - val_loss: 1.2847 - val_accuracy: 0.5477\n",
            "Epoch 38/100\n",
            "900/900 [==============================] - 63s 70ms/step - loss: 1.2825 - accuracy: 0.5169 - val_loss: 1.1597 - val_accuracy: 0.5564\n",
            "Epoch 39/100\n",
            "900/900 [==============================] - 64s 71ms/step - loss: 1.2706 - accuracy: 0.5230 - val_loss: 1.3598 - val_accuracy: 0.5375\n",
            "Epoch 40/100\n",
            "900/900 [==============================] - 63s 70ms/step - loss: 1.2820 - accuracy: 0.5179 - val_loss: 1.1280 - val_accuracy: 0.5706\n",
            "Epoch 41/100\n",
            "900/900 [==============================] - 63s 70ms/step - loss: 1.2430 - accuracy: 0.5332 - val_loss: 1.1746 - val_accuracy: 0.5737\n",
            "Epoch 42/100\n",
            "900/900 [==============================] - 63s 70ms/step - loss: 1.2222 - accuracy: 0.5453 - val_loss: 1.1278 - val_accuracy: 0.5820\n",
            "Epoch 43/100\n",
            "900/900 [==============================] - 62s 69ms/step - loss: 1.1962 - accuracy: 0.5536 - val_loss: 1.1054 - val_accuracy: 0.5892\n",
            "Epoch 44/100\n",
            "900/900 [==============================] - 63s 70ms/step - loss: 1.2044 - accuracy: 0.5481 - val_loss: 1.0865 - val_accuracy: 0.5898\n",
            "Epoch 45/100\n",
            "900/900 [==============================] - 63s 70ms/step - loss: 1.1882 - accuracy: 0.5588 - val_loss: 1.1264 - val_accuracy: 0.5889\n",
            "Epoch 46/100\n",
            "900/900 [==============================] - 63s 70ms/step - loss: 1.2076 - accuracy: 0.5503 - val_loss: 1.0797 - val_accuracy: 0.5866\n",
            "Epoch 47/100\n",
            "900/900 [==============================] - 63s 70ms/step - loss: 1.1810 - accuracy: 0.5645 - val_loss: 1.0649 - val_accuracy: 0.5963\n",
            "Epoch 48/100\n",
            "900/900 [==============================] - 63s 70ms/step - loss: 1.1539 - accuracy: 0.5747 - val_loss: 1.1542 - val_accuracy: 0.5730\n",
            "Epoch 49/100\n",
            "900/900 [==============================] - 63s 70ms/step - loss: 1.1531 - accuracy: 0.5704 - val_loss: 1.0477 - val_accuracy: 0.6074\n",
            "Epoch 50/100\n",
            "900/900 [==============================] - 62s 69ms/step - loss: 1.1364 - accuracy: 0.5780 - val_loss: 1.0725 - val_accuracy: 0.5838\n",
            "Epoch 51/100\n",
            "900/900 [==============================] - 63s 70ms/step - loss: 1.1160 - accuracy: 0.5835 - val_loss: 1.0254 - val_accuracy: 0.6105\n",
            "Epoch 52/100\n",
            "900/900 [==============================] - 64s 71ms/step - loss: 1.1268 - accuracy: 0.5816 - val_loss: 1.0346 - val_accuracy: 0.6094\n",
            "Epoch 53/100\n",
            "900/900 [==============================] - 64s 71ms/step - loss: 1.1158 - accuracy: 0.5874 - val_loss: 1.0150 - val_accuracy: 0.6246\n",
            "Epoch 54/100\n",
            "900/900 [==============================] - 64s 71ms/step - loss: 1.1292 - accuracy: 0.5800 - val_loss: 1.0943 - val_accuracy: 0.5879\n",
            "Epoch 55/100\n",
            "900/900 [==============================] - 64s 71ms/step - loss: 1.1181 - accuracy: 0.5863 - val_loss: 1.0324 - val_accuracy: 0.6099\n",
            "Epoch 56/100\n",
            "900/900 [==============================] - 63s 70ms/step - loss: 1.0961 - accuracy: 0.5929 - val_loss: 1.0410 - val_accuracy: 0.6119\n",
            "Epoch 57/100\n",
            "900/900 [==============================] - 64s 71ms/step - loss: 1.1081 - accuracy: 0.5911 - val_loss: 0.9798 - val_accuracy: 0.6237\n",
            "Epoch 58/100\n",
            "900/900 [==============================] - 64s 71ms/step - loss: 1.0836 - accuracy: 0.5991 - val_loss: 0.9838 - val_accuracy: 0.6332\n",
            "Epoch 59/100\n",
            "900/900 [==============================] - 64s 71ms/step - loss: 1.0814 - accuracy: 0.6052 - val_loss: 1.0364 - val_accuracy: 0.6203\n",
            "Epoch 60/100\n",
            "900/900 [==============================] - 64s 71ms/step - loss: 1.0752 - accuracy: 0.6008 - val_loss: 0.9944 - val_accuracy: 0.6284\n",
            "Epoch 61/100\n",
            "900/900 [==============================] - 64s 71ms/step - loss: 1.0725 - accuracy: 0.6044 - val_loss: 0.9944 - val_accuracy: 0.6297\n",
            "Epoch 62/100\n",
            "900/900 [==============================] - 65s 72ms/step - loss: 1.0641 - accuracy: 0.6095 - val_loss: 1.0268 - val_accuracy: 0.6018\n",
            "Epoch 63/100\n",
            "900/900 [==============================] - 64s 71ms/step - loss: 1.0697 - accuracy: 0.6032 - val_loss: 1.0137 - val_accuracy: 0.6320\n",
            "Epoch 64/100\n",
            "900/900 [==============================] - 63s 70ms/step - loss: 1.0581 - accuracy: 0.6074 - val_loss: 1.0361 - val_accuracy: 0.6102\n",
            "Epoch 65/100\n",
            "900/900 [==============================] - 63s 70ms/step - loss: 1.0367 - accuracy: 0.6191 - val_loss: 1.0655 - val_accuracy: 0.5999\n",
            "Epoch 66/100\n",
            "900/900 [==============================] - 64s 71ms/step - loss: 1.0456 - accuracy: 0.6128 - val_loss: 1.0563 - val_accuracy: 0.6078\n",
            "Epoch 67/100\n",
            "900/900 [==============================] - 64s 71ms/step - loss: 1.0354 - accuracy: 0.6174 - val_loss: 1.0135 - val_accuracy: 0.6308\n",
            "Epoch 68/100\n",
            "900/900 [==============================] - 63s 70ms/step - loss: 1.0142 - accuracy: 0.6257 - val_loss: 1.3054 - val_accuracy: 0.6115\n",
            "Epoch 69/100\n",
            "900/900 [==============================] - 63s 70ms/step - loss: 1.0451 - accuracy: 0.6121 - val_loss: 0.9774 - val_accuracy: 0.6399\n",
            "Epoch 70/100\n",
            "900/900 [==============================] - 64s 71ms/step - loss: 1.0151 - accuracy: 0.6254 - val_loss: 1.0406 - val_accuracy: 0.6183\n",
            "Epoch 71/100\n",
            "900/900 [==============================] - 63s 70ms/step - loss: 1.0023 - accuracy: 0.6308 - val_loss: 0.9740 - val_accuracy: 0.6422\n",
            "Epoch 72/100\n",
            "900/900 [==============================] - 63s 70ms/step - loss: 1.0013 - accuracy: 0.6324 - val_loss: 0.9976 - val_accuracy: 0.6251\n",
            "Epoch 73/100\n",
            "900/900 [==============================] - 64s 71ms/step - loss: 0.9927 - accuracy: 0.6321 - val_loss: 0.9859 - val_accuracy: 0.6381\n",
            "Epoch 74/100\n",
            "900/900 [==============================] - 63s 70ms/step - loss: 0.9869 - accuracy: 0.6321 - val_loss: 1.0005 - val_accuracy: 0.6366\n",
            "Epoch 75/100\n",
            "900/900 [==============================] - 63s 69ms/step - loss: 0.9726 - accuracy: 0.6412 - val_loss: 0.9859 - val_accuracy: 0.6379\n",
            "Epoch 76/100\n",
            "900/900 [==============================] - 63s 70ms/step - loss: 0.9982 - accuracy: 0.6310 - val_loss: 0.9859 - val_accuracy: 0.6365\n",
            "Epoch 77/100\n",
            "900/900 [==============================] - 64s 71ms/step - loss: 0.9782 - accuracy: 0.6389 - val_loss: 0.9685 - val_accuracy: 0.6551\n",
            "Epoch 78/100\n",
            "900/900 [==============================] - 65s 72ms/step - loss: 0.9654 - accuracy: 0.6393 - val_loss: 0.9678 - val_accuracy: 0.6469\n",
            "Epoch 79/100\n",
            "900/900 [==============================] - 64s 71ms/step - loss: 0.9667 - accuracy: 0.6426 - val_loss: 0.9974 - val_accuracy: 0.6361\n",
            "Epoch 80/100\n",
            "900/900 [==============================] - 63s 70ms/step - loss: 0.9561 - accuracy: 0.6465 - val_loss: 1.0156 - val_accuracy: 0.6348\n",
            "Epoch 81/100\n",
            "900/900 [==============================] - 62s 69ms/step - loss: 0.9634 - accuracy: 0.6444 - val_loss: 0.9873 - val_accuracy: 0.6384\n",
            "Epoch 82/100\n",
            "900/900 [==============================] - 64s 71ms/step - loss: 0.9544 - accuracy: 0.6450 - val_loss: 1.0219 - val_accuracy: 0.6351\n",
            "Epoch 83/100\n",
            "900/900 [==============================] - 64s 71ms/step - loss: 0.9474 - accuracy: 0.6511 - val_loss: 0.9886 - val_accuracy: 0.6476\n",
            "Epoch 84/100\n",
            "900/900 [==============================] - 67s 74ms/step - loss: 0.9424 - accuracy: 0.6530 - val_loss: 1.0574 - val_accuracy: 0.6206\n",
            "Epoch 85/100\n",
            "900/900 [==============================] - 64s 71ms/step - loss: 0.9717 - accuracy: 0.6398 - val_loss: 0.9976 - val_accuracy: 0.6369\n",
            "Epoch 86/100\n",
            "900/900 [==============================] - 64s 71ms/step - loss: 0.9313 - accuracy: 0.6577 - val_loss: 1.3653 - val_accuracy: 0.6388\n",
            "Epoch 87/100\n",
            "900/900 [==============================] - 64s 71ms/step - loss: 0.9151 - accuracy: 0.6613 - val_loss: 0.9580 - val_accuracy: 0.6543\n",
            "Epoch 88/100\n",
            "900/900 [==============================] - 64s 71ms/step - loss: 0.9422 - accuracy: 0.6529 - val_loss: 0.9405 - val_accuracy: 0.6570\n",
            "Epoch 89/100\n",
            "900/900 [==============================] - 65s 73ms/step - loss: 0.9137 - accuracy: 0.6602 - val_loss: 1.0171 - val_accuracy: 0.6450\n",
            "Epoch 90/100\n",
            "900/900 [==============================] - 66s 73ms/step - loss: 0.9206 - accuracy: 0.6612 - val_loss: 0.9682 - val_accuracy: 0.6473\n",
            "Epoch 91/100\n",
            "900/900 [==============================] - 65s 72ms/step - loss: 0.9173 - accuracy: 0.6586 - val_loss: 0.9533 - val_accuracy: 0.6564\n",
            "Epoch 92/100\n",
            "900/900 [==============================] - 65s 72ms/step - loss: 0.9109 - accuracy: 0.6606 - val_loss: 0.9533 - val_accuracy: 0.6592\n",
            "Epoch 93/100\n",
            "900/900 [==============================] - 65s 72ms/step - loss: 0.9094 - accuracy: 0.6614 - val_loss: 0.9381 - val_accuracy: 0.6548\n",
            "Epoch 94/100\n",
            "900/900 [==============================] - 65s 72ms/step - loss: 0.9081 - accuracy: 0.6627 - val_loss: 0.9450 - val_accuracy: 0.6626\n",
            "Epoch 95/100\n",
            "900/900 [==============================] - 65s 72ms/step - loss: 0.9160 - accuracy: 0.6599 - val_loss: 0.9454 - val_accuracy: 0.6510\n",
            "Epoch 96/100\n",
            "900/900 [==============================] - 65s 72ms/step - loss: 0.9050 - accuracy: 0.6629 - val_loss: 0.9385 - val_accuracy: 0.6592\n",
            "Epoch 97/100\n",
            "900/900 [==============================] - 64s 71ms/step - loss: 0.8705 - accuracy: 0.6774 - val_loss: 0.9343 - val_accuracy: 0.6598\n",
            "Epoch 98/100\n",
            "900/900 [==============================] - 65s 72ms/step - loss: 0.8825 - accuracy: 0.6765 - val_loss: 0.9245 - val_accuracy: 0.6707\n",
            "Epoch 99/100\n",
            "900/900 [==============================] - 66s 74ms/step - loss: 0.8777 - accuracy: 0.6751 - val_loss: 0.9246 - val_accuracy: 0.6604\n",
            "Epoch 100/100\n",
            "900/900 [==============================] - 65s 72ms/step - loss: 0.9054 - accuracy: 0.6669 - val_loss: 0.9338 - val_accuracy: 0.6536\n"
          ],
          "name": "stdout"
        }
      ]
    },
    {
      "cell_type": "code",
      "metadata": {
        "colab": {
          "base_uri": "https://localhost:8080/",
          "height": 301
        },
        "id": "drZ5k582wZtW",
        "outputId": "86620ba5-6280-4805-fd34-6360cfed8e67"
      },
      "source": [
        "import matplotlib.pyplot as plt \r\n",
        "%matplotlib inline\r\n",
        "\r\n",
        "plt.plot(history.history['accuracy'], label='accuracy')\r\n",
        "plt.plot(history.history['val_accuracy'], label = 'val_accuracy')\r\n",
        "plt.xlabel('Epoch')\r\n",
        "plt.ylabel('Accuracy')\r\n",
        "plt.ylim([0.5, 1])\r\n",
        "plt.legend()"
      ],
      "execution_count": null,
      "outputs": [
        {
          "output_type": "execute_result",
          "data": {
            "text/plain": [
              "<matplotlib.legend.Legend at 0x7fc61917b0f0>"
            ]
          },
          "metadata": {
            "tags": []
          },
          "execution_count": 21
        },
        {
          "output_type": "display_data",
          "data": {
            "image/png": "[encoded data removed]",
            "text/plain": [
              "<Figure size 432x288 with 1 Axes>"
            ]
          },
          "metadata": {
            "tags": [],
            "needs_background": "light"
          }
        }
      ]
    },
    {
      "cell_type": "code",
      "metadata": {
        "colab": {
          "base_uri": "https://localhost:8080/",
          "height": 299
        },
        "id": "MpasVoB-96Rh",
        "outputId": "8711b4c1-c5c1-4c93-dec6-a55240a6e208"
      },
      "source": [
        "import matplotlib.pyplot as plt \r\n",
        "%matplotlib inline\r\n",
        "\r\n",
        "plt.plot(history.history['loss'], label='loss')\r\n",
        "plt.plot(history.history['val_loss'], label = 'val_loss')\r\n",
        "plt.xlabel('Epoch')\r\n",
        "plt.ylabel('loss')\r\n",
        "# plt.ylim([0.5, 1])\r\n",
        "plt.legend()"
      ],
      "execution_count": null,
      "outputs": [
        {
          "output_type": "execute_result",
          "data": {
            "text/plain": [
              "<matplotlib.legend.Legend at 0x7fc6193e07f0>"
            ]
          },
          "metadata": {
            "tags": []
          },
          "execution_count": 22
        },
        {
          "output_type": "display_data",
          "data": {
            "image/png": "[encoded data removed]",
            "text/plain": [
              "<Figure size 432x288 with 1 Axes>"
            ]
          },
          "metadata": {
            "tags": [],
            "needs_background": "light"
          }
        }
      ]
    },
    {
      "cell_type": "code",
      "metadata": {
        "id": "Ft12sCS-fUuK"
      },
      "source": [
        ""
      ],
      "execution_count": null,
      "outputs": []
    }
  ]
}